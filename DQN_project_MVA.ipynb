{
  "nbformat": 4,
  "nbformat_minor": 0,
  "metadata": {
    "kernelspec": {
      "name": "python3",
      "display_name": "Python 3"
    },
    "language_info": {
      "codemirror_mode": {
        "name": "ipython",
        "version": 3
      },
      "file_extension": ".py",
      "mimetype": "text/x-python",
      "name": "python",
      "nbconvert_exporter": "python",
      "pygments_lexer": "ipython3",
      "version": "3.5.7"
    },
    "colab": {
      "name": "DQN_project_MVA.ipynb",
      "provenance": [],
      "collapsed_sections": []
    },
    "accelerator": "GPU"
  },
  "cells": [
    {
      "cell_type": "code",
      "metadata": {
        "id": "zOasFZnss4gf",
        "colab_type": "code",
        "outputId": "d8ef9f43-9788-4110-bac1-ae412002f0f6",
        "colab": {
          "base_uri": "https://localhost:8080/",
          "height": 85
        }
      },
      "source": [
        "!pip install scikit-video"
      ],
      "execution_count": 15,
      "outputs": [
        {
          "output_type": "stream",
          "text": [
            "Requirement already satisfied: scikit-video in /usr/local/lib/python3.6/dist-packages (1.1.11)\n",
            "Requirement already satisfied: scipy in /usr/local/lib/python3.6/dist-packages (from scikit-video) (1.4.1)\n",
            "Requirement already satisfied: pillow in /usr/local/lib/python3.6/dist-packages (from scikit-video) (6.2.2)\n",
            "Requirement already satisfied: numpy in /usr/local/lib/python3.6/dist-packages (from scikit-video) (1.17.5)\n"
          ],
          "name": "stdout"
        }
      ]
    },
    {
      "cell_type": "markdown",
      "metadata": {
        "id": "_0ZXNAMZsfpH",
        "colab_type": "text"
      },
      "source": [
        "**You may need to install [OpenCV](https://pypi.python.org/pypi/opencv-python) and [scikit-video](http://www.scikit-video.org/stable/).**"
      ]
    },
    {
      "cell_type": "code",
      "metadata": {
        "id": "5_ckTp1NsfpK",
        "colab_type": "code",
        "colab": {}
      },
      "source": [
        "import keras\n",
        "import numpy as np\n",
        "import io\n",
        "import base64\n",
        "from IPython.display import HTML\n",
        "import skvideo.io\n",
        "import cv2\n",
        "import json\n",
        "import random\n",
        "\n",
        "from keras.models import Sequential,model_from_json\n",
        "from keras.layers.core import Dense, Flatten\n",
        "from keras.optimizers import sgd, adam\n",
        "from keras.layers import Conv2D, MaxPooling2D, Activation, AveragePooling2D,Reshape,BatchNormalization"
      ],
      "execution_count": 0,
      "outputs": []
    },
    {
      "cell_type": "markdown",
      "metadata": {
        "id": "lviyGr62sfpV",
        "colab_type": "text"
      },
      "source": [
        "# MiniProject on Deep Reinforcement Learning"
      ]
    },
    {
      "cell_type": "markdown",
      "metadata": {
        "id": "3Lv6P7lisfpY",
        "colab_type": "text"
      },
      "source": [
        "__Notations__: $E_p$ is the expectation under probability $p$. Please justify each of your answer and widely comment your code."
      ]
    },
    {
      "cell_type": "markdown",
      "metadata": {
        "id": "R6Qgo7aksfpb",
        "colab_type": "text"
      },
      "source": [
        "# Context"
      ]
    },
    {
      "cell_type": "markdown",
      "metadata": {
        "id": "6BzMMGrBsfpe",
        "colab_type": "text"
      },
      "source": [
        "In a reinforcement learning algorithm, we modelize each step $t$ as an action $a_t$ obtained from a state $s_t$, i.e. $\\{(a_{t},s_{t})_{t\\leq T}\\}$ having the Markov property. We consider a discount factor $\\gamma \\in [0,1]$ that ensures convergence. The goal is to find among all the policies $\\pi$, one that maximizes the expected reward:\n",
        "\n",
        "\\begin{equation*}\n",
        "R(\\pi)=\\sum_{t\\leq T}E_{p^{\\pi}}[\\gamma^t r(s_{t},a_{t})] \\> ,\n",
        "\\end{equation*}\n",
        "\n",
        "where: \n",
        "\\begin{equation*}p^{\\pi}(a_{0},a_{1},s_{1},...,a_{T},s_{T})=p(a_{0})\\prod_{t=1}^{T}\\pi(a_{t}|s_{t})p(s_{t+1}|s_{t},a_{t}) \\> .\n",
        "\\end{equation*}\n",
        "\n",
        "We note the $Q$-function:\n",
        "\n",
        "\\begin{equation*}Q^\\pi(s,a)=E_{p^{\\pi}}[\\sum_{t\\leq T}\\gamma^{t}r(s_{t},a_{t})|s_{0}=s,a_{0}=a] \\> .\n",
        "\\end{equation*}\n",
        "\n",
        "Thus, the optimal Q function is:\n",
        "\\begin{equation*}\n",
        "Q^*(s,a)=\\max_{\\pi}Q^\\pi(s,a) \\> .\n",
        "\\end{equation*}\n",
        "\n",
        "In this project, we will apply the deep reinforcement learning techniques to a simple game: an agent will have to learn from scratch a policy that will permit it maximizing a reward."
      ]
    },
    {
      "cell_type": "markdown",
      "metadata": {
        "id": "IJR7f0qosfph",
        "colab_type": "text"
      },
      "source": [
        "## The environment, the agent and the game"
      ]
    },
    {
      "cell_type": "markdown",
      "metadata": {
        "id": "cVZsjgCasfpj",
        "colab_type": "text"
      },
      "source": [
        "### The environment"
      ]
    },
    {
      "cell_type": "markdown",
      "metadata": {
        "id": "I230w6Hxsfpm",
        "colab_type": "text"
      },
      "source": [
        "```Environment``` is an abstract class that represents the states, rewards, and actions to obtain the new state."
      ]
    },
    {
      "cell_type": "code",
      "metadata": {
        "id": "oJgHZKdhsfpp",
        "colab_type": "code",
        "colab": {}
      },
      "source": [
        "class Environment(object):\n",
        "    def __init__(self):\n",
        "        pass\n",
        "\n",
        "    def act(self, act):\n",
        "        \"\"\"\n",
        "        One can act on the environment and obtain its reaction:\n",
        "        - the new state\n",
        "        - the reward of the new state\n",
        "        - should we continue the game?\n",
        "\n",
        "        :return: state, reward, game_over\n",
        "        \"\"\"\n",
        "        pass\n",
        "\n",
        "\n",
        "    def reset(self):\n",
        "        \"\"\"\n",
        "        Reinitialize the environment to a random state and returns\n",
        "        the original state\n",
        "\n",
        "        :return: state\n",
        "        \"\"\"\n",
        "        pass\n",
        "    \n",
        "    def draw(self):\n",
        "        \"\"\"\n",
        "        Visualize in the console or graphically the current state\n",
        "        \"\"\"\n",
        "        pass"
      ],
      "execution_count": 0,
      "outputs": []
    },
    {
      "cell_type": "markdown",
      "metadata": {
        "id": "LoDxeoYMsfp1",
        "colab_type": "text"
      },
      "source": [
        "The method ```act``` allows to act on the environment at a given state $s_t$ (stored internally), via action $a_t$. The method will return the new state $s_{t+1}$, the reward $r(s_{t},a_{t})$ and determines if $t\\leq T$ (*game_over*).\n",
        "\n",
        "The method ```reset``` simply reinitializes the environment to a random state $s_0$.\n",
        "\n",
        "The method ```draw``` displays the current state $s_t$ (this is useful to check the behavior of the Agent).\n",
        "\n",
        "We modelize $s_t$ as a tensor, while $a_t$ is an integer."
      ]
    },
    {
      "cell_type": "markdown",
      "metadata": {
        "id": "IRYyHoOAsfp4",
        "colab_type": "text"
      },
      "source": [
        "### The Agent"
      ]
    },
    {
      "cell_type": "markdown",
      "metadata": {
        "id": "RT1mC9GXsfp7",
        "colab_type": "text"
      },
      "source": [
        "The goal of the ```Agent``` is to interact with the ```Environment``` by proposing actions $a_t$ obtained from a given state $s_t$ to attempt to maximize its __reward__ $r(s_t,a_t)$. We propose the following abstract class:"
      ]
    },
    {
      "cell_type": "code",
      "metadata": {
        "id": "VIqZt2yfsfp9",
        "colab_type": "code",
        "colab": {}
      },
      "source": [
        "class Agent(object):\n",
        "    def __init__(self, epsilon=0.1, n_action=4):\n",
        "        self.epsilon = epsilon\n",
        "        self.n_action = n_action\n",
        "    \n",
        "    def set_epsilon(self,e):\n",
        "        self.epsilon = e\n",
        "\n",
        "    def act(self,s,train=True):\n",
        "        \"\"\" This function should return the next action to do:\n",
        "        an integer between 0 and 4 (not included) with a random exploration of epsilon\"\"\"\n",
        "        if train:\n",
        "            if np.random.rand() <= self.epsilon:\n",
        "                a = np.random.randint(0, self.n_action, size=1)[0]\n",
        "            else:\n",
        "                a = self.learned_act(s)\n",
        "        else: # in some cases, this can improve the performance.. remove it if poor performances\n",
        "            a = self.learned_act(s)\n",
        "\n",
        "        return a\n",
        "\n",
        "    def learned_act(self,s):\n",
        "        \"\"\" Act via the policy of the agent, from a given state s\n",
        "        it proposes an action a\"\"\"\n",
        "        pass\n",
        "\n",
        "    def reinforce(self, s, n_s, a, r, game_over_):\n",
        "        \"\"\" This function is the core of the learning algorithm. \n",
        "        It takes as an input the current state s_, the next state n_s_\n",
        "        the action a_ used to move from s_ to n_s_ and the reward r_.\n",
        "        \n",
        "        Its goal is to learn a policy.\n",
        "        \"\"\"\n",
        "        pass\n",
        "\n",
        "    def save(self):\n",
        "        \"\"\" This function returns basic stats if applicable: the\n",
        "        loss and/or the model\"\"\"\n",
        "        pass\n",
        "\n",
        "    def load(self):\n",
        "        \"\"\" This function allows to restore a model\"\"\"\n",
        "        pass"
      ],
      "execution_count": 0,
      "outputs": []
    },
    {
      "cell_type": "markdown",
      "metadata": {
        "id": "MAMZMQtssfqI",
        "colab_type": "text"
      },
      "source": [
        "***\n",
        "__Question 1__:\n",
        "Explain the function act. Why is ```epsilon``` essential?"
      ]
    },
    {
      "cell_type": "markdown",
      "metadata": {
        "id": "gXD5GlhdsfqL",
        "colab_type": "text"
      },
      "source": [
        "The function act takes a state and return an action, according to an $\\epsilon$-greedy exploration strategy. This enables a tradeoff between exploration (random action with probability $\\epsilon$) and exploitation (action with the largest Q value) with probability $1-\\epsilon$"
      ]
    },
    {
      "cell_type": "markdown",
      "metadata": {
        "id": "t7arMWMJsfqO",
        "colab_type": "text"
      },
      "source": [
        "***\n",
        "### The Game"
      ]
    },
    {
      "cell_type": "markdown",
      "metadata": {
        "id": "CnqREtOQsfqT",
        "colab_type": "text"
      },
      "source": [
        "The ```Agent``` and the ```Environment``` work in an interlaced way as in the following (take some time to understand this code as it is the core of the project)\n",
        "\n",
        "```python\n",
        "\n",
        "epoch = 300\n",
        "env = Environment()\n",
        "agent = Agent()\n",
        "\n",
        "\n",
        "# Number of won games\n",
        "score = 0\n",
        "loss = 0\n",
        "\n",
        "\n",
        "for e in range(epoch):\n",
        "    # At each epoch, we restart to a fresh game and get the initial state\n",
        "    state = env.reset()\n",
        "    # This assumes that the games will end\n",
        "    game_over = False\n",
        "\n",
        "    win = 0\n",
        "    lose = 0\n",
        "    \n",
        "    while not game_over:\n",
        "        # The agent performs an action\n",
        "        action = agent.act(state)\n",
        "\n",
        "        # Apply an action to the environment, get the next state, the reward\n",
        "        # and if the games end\n",
        "        prev_state = state\n",
        "        state, reward, game_over = env.act(action)\n",
        "\n",
        "        # Update the counters\n",
        "        if reward > 0:\n",
        "            win = win + reward\n",
        "        if reward < 0:\n",
        "            lose = lose -reward\n",
        "\n",
        "        # Apply the reinforcement strategy\n",
        "        loss = agent.reinforce(prev_state, state,  action, reward, game_over)\n",
        "\n",
        "    # Save as a mp4\n",
        "    if e % 10 == 0:\n",
        "        env.draw(e)\n",
        "\n",
        "    # Update stats\n",
        "    score += win-lose\n",
        "\n",
        "    print(\"Epoch {:03d}/{:03d} | Loss {:.4f} | Win/lose count {}/{} ({})\"\n",
        "          .format(e, epoch, loss, win, lose, win-lose))\n",
        "    agent.save()\n",
        "```"
      ]
    },
    {
      "cell_type": "markdown",
      "metadata": {
        "id": "dVzi-jMRsfqX",
        "colab_type": "text"
      },
      "source": [
        "# The game, *eat cheese*"
      ]
    },
    {
      "cell_type": "markdown",
      "metadata": {
        "id": "52BXrs-UsfqZ",
        "colab_type": "text"
      },
      "source": [
        "A rat runs on an island and tries to eat as much as possible. The island is subdivided into $N\\times N$ cells, in which there are cheese (+0.5) and poisonous cells (-1). The rat has a visibility of 2 cells (thus it can see $5^2$ cells). The rat is given a time $T$ to accumulate as much food as possible. It can perform 4 actions: going up, down, left, right. \n",
        "\n",
        "The goal is to code an agent to solve this task that will learn by trial and error. We propose the following environment:"
      ]
    },
    {
      "cell_type": "code",
      "metadata": {
        "id": "_eGVco3isfqf",
        "colab_type": "code",
        "colab": {}
      },
      "source": [
        "class Environment(object):\n",
        "    def __init__(self, grid_size=10, max_time=500, temperature=0.1):\n",
        "        grid_size = grid_size+4\n",
        "        self.grid_size = grid_size\n",
        "        self.max_time = max_time\n",
        "        self.temperature = temperature\n",
        "\n",
        "        #board on which one plays\n",
        "        self.board = np.zeros((grid_size,grid_size))\n",
        "        self.position = np.zeros((grid_size,grid_size))\n",
        "\n",
        "        # coordinate of the cat\n",
        "        self.x = 0\n",
        "        self.y = 1\n",
        "\n",
        "        # self time\n",
        "        self.t = 0\n",
        "\n",
        "        self.scale=16\n",
        "\n",
        "        self.to_draw = np.zeros((max_time+2, grid_size*self.scale, grid_size*self.scale, 3))\n",
        "\n",
        "\n",
        "    def draw(self,e):\n",
        "        skvideo.io.vwrite(str(e) + '.mp4', self.to_draw)\n",
        "\n",
        "    def get_frame(self,t):\n",
        "        b = np.zeros((self.grid_size,self.grid_size,3))+128\n",
        "        b[self.board>0,0] = 256\n",
        "        b[self.board < 0, 2] = 256\n",
        "        b[self.x,self.y,:]=256\n",
        "        b[-2:,:,:]=0\n",
        "        b[:,-2:,:]=0\n",
        "        b[:2,:,:]=0\n",
        "        b[:,:2,:]=0\n",
        "        \n",
        "        b =  cv2.resize(b, None, fx=self.scale, fy=self.scale, interpolation=cv2.INTER_NEAREST)\n",
        "\n",
        "        self.to_draw[t,:,:,:]=b\n",
        "\n",
        "\n",
        "    def act(self, action):\n",
        "        \"\"\"This function returns the new state, reward and decides if the\n",
        "        game ends.\"\"\"\n",
        "\n",
        "        self.get_frame(int(self.t))\n",
        "\n",
        "        self.position = np.zeros((self.grid_size, self.grid_size))\n",
        "\n",
        "        self.position[0:2,:]= -1\n",
        "        self.position[:,0:2] = -1\n",
        "        self.position[-2:, :] = -1\n",
        "        self.position[-2:, :] = -1\n",
        "\n",
        "        self.position[self.x, self.y] = 1\n",
        "        if action == 0:\n",
        "            if self.x == self.grid_size-3:\n",
        "                self.x = self.x-1\n",
        "            else:\n",
        "                self.x = self.x + 1\n",
        "        elif action == 1:\n",
        "            if self.x == 2:\n",
        "                self.x = self.x+1\n",
        "            else:\n",
        "                self.x = self.x-1\n",
        "        elif action == 2:\n",
        "            if self.y == self.grid_size - 3:\n",
        "                self.y = self.y - 1\n",
        "            else:\n",
        "                self.y = self.y + 1\n",
        "        elif action == 3:\n",
        "            if self.y == 2:\n",
        "                self.y = self.y + 1\n",
        "            else:\n",
        "                self.y = self.y - 1\n",
        "        else:\n",
        "            RuntimeError('Error: action not recognized')\n",
        "\n",
        "        self.t = self.t + 1\n",
        "        reward = self.board[self.x, self.y]\n",
        "        self.board[self.x, self.y] = 0\n",
        "        game_over = self.t > self.max_time\n",
        "        state = np.concatenate((self.board.reshape(self.grid_size, self.grid_size,1),\n",
        "                        self.position.reshape(self.grid_size, self.grid_size,1)),axis=2)\n",
        "        state = state[self.x-2:self.x+3,self.y-2:self.y+3,:]\n",
        "\n",
        "        return state, reward, game_over\n",
        "\n",
        "    def reset(self):\n",
        "        \"\"\"This function resets the game and returns the initial state\"\"\"\n",
        "\n",
        "        self.x = np.random.randint(3, self.grid_size-3, size=1)[0]\n",
        "        self.y = np.random.randint(3, self.grid_size-3, size=1)[0]\n",
        "\n",
        "\n",
        "        bonus = 0.5*np.random.binomial(1,self.temperature,size=self.grid_size**2)\n",
        "        bonus = bonus.reshape(self.grid_size,self.grid_size)\n",
        "\n",
        "        malus = -1.0*np.random.binomial(1,self.temperature,size=self.grid_size**2)\n",
        "        malus = malus.reshape(self.grid_size, self.grid_size)\n",
        "\n",
        "        self.to_draw = np.zeros((self.max_time+2, self.grid_size*self.scale, self.grid_size*self.scale, 3))\n",
        "\n",
        "\n",
        "        malus[bonus>0]=0\n",
        "\n",
        "        self.board = bonus + malus\n",
        "\n",
        "        self.position = np.zeros((self.grid_size, self.grid_size))\n",
        "        self.position[0:2,:]= -1\n",
        "        self.position[:,0:2] = -1\n",
        "        self.position[-2:, :] = -1\n",
        "        self.position[-2:, :] = -1\n",
        "        self.board[self.x,self.y] = 0\n",
        "        self.t = 0\n",
        "\n",
        "        state = np.concatenate((\n",
        "                               self.board.reshape(self.grid_size, self.grid_size,1),\n",
        "                        self.position.reshape(self.grid_size, self.grid_size,1)),axis=2)\n",
        "\n",
        "        state = state[self.x - 2:self.x + 3, self.y - 2:self.y + 3, :]\n",
        "        return state"
      ],
      "execution_count": 0,
      "outputs": []
    },
    {
      "cell_type": "markdown",
      "metadata": {
        "id": "DjOoNftvsfqx",
        "colab_type": "text"
      },
      "source": [
        "The following elements are important because they correspond to the hyper parameters for this project:"
      ]
    },
    {
      "cell_type": "code",
      "metadata": {
        "id": "OkgLKrKAsfq1",
        "colab_type": "code",
        "colab": {}
      },
      "source": [
        "# parameters\n",
        "size = 13\n",
        "T=200\n",
        "temperature=0.3\n",
        "epochs_train=10 # set small when debugging\n",
        "epochs_test=10 # set small when debugging\n",
        "\n",
        "# display videos\n",
        "def display_videos(name):\n",
        "    video = io.open(name, 'r+b').read()\n",
        "    encoded = base64.b64encode(video)\n",
        "    return '''<video alt=\"test\" controls>\n",
        "                <source src=\"data:video/mp4;base64,{0}\" type=\"video/mp4\" />\n",
        "             </video>'''.format(encoded.decode('ascii'))"
      ],
      "execution_count": 0,
      "outputs": []
    },
    {
      "cell_type": "markdown",
      "metadata": {
        "id": "FnUIQILqsfq_",
        "colab_type": "text"
      },
      "source": [
        "__Question 2__ Explain the use of the arrays ```position``` and ```board```."
      ]
    },
    {
      "cell_type": "markdown",
      "metadata": {
        "id": "2e4aR4ZWsfrB",
        "colab_type": "text"
      },
      "source": [
        "The state at time $t$ is defined as a stacking along depth of two arrays of shapes (grid size, grid size), ```position``` and ```board```. ```position``` is equal to 1 on the player position, -1 on the borders of the board (of width 2), and zero elsewhere. ```board``` contains at $(x, y)$ the reward (either positive, negative, or null if already visited) of the position $(x, y)$. \n",
        "\n"
      ]
    },
    {
      "cell_type": "markdown",
      "metadata": {
        "id": "0LAfVG6JsfrD",
        "colab_type": "text"
      },
      "source": [
        "## Random Agent"
      ]
    },
    {
      "cell_type": "markdown",
      "metadata": {
        "id": "bC-TPolnsfrF",
        "colab_type": "text"
      },
      "source": [
        "***\n",
        "__Question 3__ Implement a random Agent (only ```learned_act``` needs to be implemented):"
      ]
    },
    {
      "cell_type": "code",
      "metadata": {
        "id": "4lUmosOwsfrH",
        "colab_type": "code",
        "colab": {}
      },
      "source": [
        "class RandomAgent(Agent):\n",
        "    def __init__(self):\n",
        "        super(RandomAgent, self).__init__()\n",
        "        pass\n",
        "\n",
        "    def learned_act(self, s):\n",
        "        \"\"\"Randomly return an action\"\"\"\n",
        "        a = np.random.randint(0, 4)\n",
        "        return a\n",
        "\n",
        "        "
      ],
      "execution_count": 0,
      "outputs": []
    },
    {
      "cell_type": "markdown",
      "metadata": {
        "id": "Rl3vA87lsfrO",
        "colab_type": "text"
      },
      "source": [
        "***\n",
        "***\n",
        "__Question 4__ Visualize the game moves. You need to fill in the following function for the evaluation:"
      ]
    },
    {
      "cell_type": "code",
      "metadata": {
        "id": "Y8dO8AWWsfrQ",
        "colab_type": "code",
        "colab": {}
      },
      "source": [
        "def test(agent,env,epochs,prefix=''):\n",
        "    # Number of won games\n",
        "    score = 0\n",
        "        \n",
        "    for e in range(epochs):\n",
        "        # Reset the environment\n",
        "        state = env.reset()\n",
        "        game_over = False\n",
        "        win = 0\n",
        "        lose = 0\n",
        "\n",
        "        while not game_over:\n",
        "            # Perform an action\n",
        "            action = agent.act(state)\n",
        "            state, reward, game_over = env.act(action)\n",
        "            # Update the counters\n",
        "            if reward > 0:\n",
        "                win = win + reward\n",
        "            if reward < 0:\n",
        "                lose = lose -reward\n",
        "        \n",
        "        # Save as a mp4\n",
        "        env.draw(prefix+str(e))\n",
        "\n",
        "        # Update stats\n",
        "        score = score + win-lose\n",
        "\n",
        "        print(\"Win/lose count {}/{}. Average score ({})\"\n",
        "              .format(win, lose, score/(1+e)))\n",
        "    print('Final score: '+str(score/epochs))"
      ],
      "execution_count": 0,
      "outputs": []
    },
    {
      "cell_type": "code",
      "metadata": {
        "id": "pOTbQ0MxsfrX",
        "colab_type": "code",
        "outputId": "0886c743-c1e7-4c8f-e869-24c78da84096",
        "colab": {
          "base_uri": "https://localhost:8080/",
          "height": 480
        }
      },
      "source": [
        "# Initialize the game\n",
        "env = Environment(grid_size=size, max_time=T,temperature=temperature)\n",
        "\n",
        "# Initialize the agent!\n",
        "agent = RandomAgent()\n",
        "\n",
        "test(agent,env,epochs_test,prefix='random')\n",
        "HTML(display_videos('random0.mp4'))"
      ],
      "execution_count": 23,
      "outputs": [
        {
          "output_type": "stream",
          "text": [
            "Win/lose count 3.5/7.0. Average score (-3.5)\n",
            "Win/lose count 8.5/13.0. Average score (-4.0)\n",
            "Win/lose count 11.0/15.0. Average score (-4.0)\n",
            "Win/lose count 12.0/17.0. Average score (-4.25)\n",
            "Win/lose count 8.5/13.0. Average score (-4.3)\n",
            "Win/lose count 11.5/11.0. Average score (-3.5)\n",
            "Win/lose count 7.5/4.0. Average score (-2.5)\n",
            "Win/lose count 11.5/24.0. Average score (-3.75)\n",
            "Win/lose count 9.5/13.0. Average score (-3.7222222222222223)\n",
            "Win/lose count 6.5/13.0. Average score (-4.0)\n",
            "Final score: -4.0\n"
          ],
          "name": "stdout"
        },
        {
          "output_type": "execute_result",
          "data": {
            "text/html": [
              "<video alt=\"test\" controls>\n",
              "                <source src=\"data:video/mp4;base64,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\" type=\"video/mp4\" />\n",
              "             </video>"
            ],
            "text/plain": [
              "<IPython.core.display.HTML object>"
            ]
          },
          "metadata": {
            "tags": []
          },
          "execution_count": 23
        }
      ]
    },
    {
      "cell_type": "markdown",
      "metadata": {
        "id": "LntOuh9Lsfrf",
        "colab_type": "text"
      },
      "source": [
        "***\n",
        "## DQN"
      ]
    },
    {
      "cell_type": "markdown",
      "metadata": {
        "id": "k8GPQJsdsfrh",
        "colab_type": "text"
      },
      "source": [
        "Let us assume here that $T=\\infty$.\n",
        "\n",
        "***\n",
        "__Question 5__ Let $\\pi$ be a policy, show that:\n",
        "\n",
        "\\begin{equation*}\n",
        "Q^{\\pi}(s,a)=E_{(s',a')\\sim p(.|s,a)}[r(s,a)+\\gamma Q^{\\pi}(s',a')]\n",
        "\\end{equation*}\n",
        "\n",
        "Then, show that for the optimal policy $\\pi^*$ (we assume its existence), the following holds: \n",
        "\n",
        "\\begin{equation*}\n",
        "Q^{*}(s,a)=E_{s'\\sim \\pi^*(.|s,a)}[r(s,a)+\\gamma\\max_{a'}Q^{*}(s',a')].\n",
        "\\end{equation*}\n",
        "Finally, deduce that a plausible objective is:\n",
        "\n",
        "\\begin{equation*}\n",
        "\\mathcal{L}(\\theta)=E_{s' \\sim \\pi^*(.|s,a)}\\Vert r+\\gamma\\max\\max_{a'}Q(s',a',\\theta)-Q(s,a,\\theta)\\Vert^{2}.\n",
        "\\end{equation*}\n",
        "\n",
        "\n"
      ]
    },
    {
      "cell_type": "markdown",
      "metadata": {
        "id": "y686Biicsfrk",
        "colab_type": "text"
      },
      "source": [
        "By definition of $Q^\\pi$ with $T=\\infty$,\n",
        "\n",
        "\\begin{equation*}Q^\\pi(s,a) = E_{p^{\\pi}}[\\sum_{t=0}^{\\infty}\\gamma^{t}r(s_{t},a_{t})|s_{0}=s,a_{0}=a] \\>\n",
        "\\end{equation*}\n",
        "Let's isolate the first reward:\n",
        "\\begin{equation*}\n",
        "Q^\\pi(s,a) = E_{p^{\\pi}}[r(s_0, a_0) + \\gamma \\sum_{t=1}^{\\infty}\\gamma^{t-1}r(s_{t},a_{t})|s_{0}=s,a_{0}=a] \\>\n",
        "\\end{equation*}\n",
        "Using the Markov property on $p^\\pi$, we have:\n",
        "\\begin{equation*}\n",
        "Q^\\pi(s,a) = E_{p^{\\pi}}[r(s_0, a_0) + \\gamma \\sum_{t=0}^{\\infty} \\gamma^{t}r(s_{t+1},a_{t+1}) |s_{0}=s,a_{0}=a] \\>\n",
        "\\end{equation*}\n",
        "Which we finally rewrite:\n",
        "\\begin{equation*}\n",
        "Q^\\pi(s,a) = E_{p^{\\pi}, (s', a') \\sim p(.|s,a)}[r(s, a) + \\gamma Q^\\pi(s', a')] \\>\n",
        "\\end{equation*}\n",
        "\n",
        "For $Q^*$ and associated policy $\\pi^*$:\n",
        "\n",
        "\\begin{equation*}\n",
        "Q^*(s,a)=\\max_{\\pi}Q^\\pi(s,a) \\> .\n",
        "\\end{equation*}\n",
        "\n",
        "For any state $s$:\n",
        "\\begin{equation*}\n",
        "Q^*(s, \\pi^*(s)) = \\max_a Q^*(s, a) \\> .\n",
        "\\end{equation*} \n",
        "\n",
        "Thus using the previously derived equation with $Q^*$ and $\\pi^*$, we get:\n",
        "\\begin{equation*}\n",
        "Q^*(s,a)= E_{p^{\\pi^*}, (s', a') \\sim p(.|s,a)}[r(s, a) + \\gamma \\max_{a'}Q^*(s', a')] \\> .\n",
        "\\end{equation*}\n",
        "\n",
        "\n",
        "The objective is related to the optimality equation of $Q^*$. We can show that $Q^*$ is the only solution to this equation. When it is minimized, this equation holds and the objective is 0.\n",
        "\n",
        "\n",
        "\n",
        "\n"
      ]
    },
    {
      "cell_type": "markdown",
      "metadata": {
        "id": "0Lq0gP6isfrm",
        "colab_type": "text"
      },
      "source": [
        "***\n",
        "The DQN-learning algorithm relies on these derivations to train the parameters $\\theta$ of a Deep Neural Network:\n",
        "\n",
        "1. At the state $s_t$, select the action $a_t$ with best reward using $Q_t$ and store the results;\n",
        "\n",
        "2. Obtain the new state $s_{t+1}$ from the environment $p$;\n",
        "\n",
        "3. Store $(s_t,a_t,s_{t+1})$;\n",
        "\n",
        "4. Obtain $Q_{t+1}$ by minimizing  $\\mathcal{L}$ from a recovered batch from the previously stored results.\n",
        "\n",
        "***\n",
        "__Question 6__ Implement the class ```Memory``` that stores moves (in a replay buffer) via ```remember``` and provides a ```random_access``` to these. Specify a maximum memory size to avoid side effects. You can for example use a ```list()``` and set by default ```max_memory=100```."
      ]
    },
    {
      "cell_type": "code",
      "metadata": {
        "id": "z2BZBSH2sfrp",
        "colab_type": "code",
        "colab": {}
      },
      "source": [
        "class Memory(object):\n",
        "    def __init__(self, max_memory=100):\n",
        "        self.max_memory = max_memory\n",
        "        self.memory = list()\n",
        "\n",
        "    def remember(self, m):\n",
        "        \"\"\"Store a transition in the buffer\"\"\"\n",
        "        if len(self.memory) >= self.max_memory:\n",
        "            # Remove oldest element of buffer if memory is full\n",
        "            self.memory.pop(0)\n",
        "        self.memory.append(m)            \n",
        "\n",
        "    def random_access(self):\n",
        "        \"\"\"Return a random transition from the buffer\"\"\"\n",
        "        m = random.choice(self.memory)\n",
        "        return m"
      ],
      "execution_count": 0,
      "outputs": []
    },
    {
      "cell_type": "markdown",
      "metadata": {
        "id": "CBI-XfLWsfrz",
        "colab_type": "text"
      },
      "source": [
        "***\n",
        "The pipeline we will use for training is given below:"
      ]
    },
    {
      "cell_type": "code",
      "metadata": {
        "id": "JkgCbSC0sfr2",
        "colab_type": "code",
        "colab": {}
      },
      "source": [
        "def train(agent,env,epoch,prefix=''):\n",
        "    # Number of won games\n",
        "    score = 0\n",
        "    loss = 0\n",
        "\n",
        "    for e in range(epoch):\n",
        "        # At each epoch, we restart to a fresh game and get the initial state\n",
        "        state = env.reset()\n",
        "        # This assumes that the games will terminate\n",
        "        game_over = False\n",
        "\n",
        "        win = 0\n",
        "        lose = 0\n",
        "\n",
        "        while not game_over:\n",
        "            # The agent performs an action\n",
        "            action = agent.act(state)\n",
        "\n",
        "            # Apply an action to the environment, get the next state, the reward\n",
        "            # and if the games end\n",
        "            prev_state = state\n",
        "            state, reward, game_over = env.act(action)\n",
        "\n",
        "            # Update the counters\n",
        "            if reward > 0:\n",
        "                win = win + reward\n",
        "            if reward < 0:\n",
        "                lose = lose -reward\n",
        "\n",
        "            # Apply the reinforcement strategy\n",
        "            loss = agent.reinforce(prev_state, state,  action, reward, game_over)\n",
        "\n",
        "        # Save as a mp4\n",
        "        if e % 10 == 0:\n",
        "            env.draw(prefix+str(e))\n",
        "\n",
        "        # Update stats\n",
        "        score += win-lose\n",
        "\n",
        "        print(\"Epoch {:03d}/{:03d} | Loss {:.4f} | Win/lose count {}/{} ({})\"\n",
        "              .format(e, epoch, loss, win, lose, win-lose))\n",
        "        agent.save(name_weights=prefix+'model.h5',name_model=prefix+'model.json')"
      ],
      "execution_count": 0,
      "outputs": []
    },
    {
      "cell_type": "markdown",
      "metadata": {
        "id": "522hmb2_sfr-",
        "colab_type": "text"
      },
      "source": [
        "***\n",
        "__Question 7__ Implement the DQN training algorithm using a cascade of fully connected layers. You can use different learning rate, batch size or memory size parameters. In particular, the loss might oscillate while the player will start to win the games. You have to find a good criterium."
      ]
    },
    {
      "cell_type": "code",
      "metadata": {
        "id": "XqXnjw17sfr_",
        "colab_type": "code",
        "colab": {}
      },
      "source": [
        "class DQN(Agent):\n",
        "    def __init__(self, grid_size,  epsilon = 0.1, memory_size=100, batch_size = 16,n_state=2):\n",
        "        super(DQN, self).__init__(epsilon = epsilon)\n",
        "\n",
        "        # Discount for Q learning\n",
        "        self.discount = 0.99\n",
        "        \n",
        "        self.grid_size = grid_size\n",
        "        \n",
        "        # number of state\n",
        "        self.n_state = n_state\n",
        "\n",
        "        # Memory\n",
        "        self.memory = Memory(memory_size)\n",
        "        \n",
        "        # Batch size when learning\n",
        "        self.batch_size = batch_size\n",
        "\n",
        "    def learned_act(self, s):\n",
        "        return self.model.predict(s.reshape(1, 5, 5, self.n_state)).argmax()\n",
        "\n",
        "    def reinforce(self, s_, n_s_, a_, r_, game_over_):\n",
        "        # Two steps: first memorize the states, second learn from the pool\n",
        "\n",
        "        self.memory.remember([s_, n_s_, a_, r_, game_over_])\n",
        "        \n",
        "        input_states = np.zeros((self.batch_size, 5, 5, self.n_state))\n",
        "        target_q = np.zeros((self.batch_size, 4))\n",
        "        \n",
        "        for i in range(self.batch_size):\n",
        "            s_, n_s_, a_, r_, game_over_ = self.memory.random_access()\n",
        "\n",
        "            input_states[i] = s_\n",
        "            target_q[i] = self.model.predict(s_.reshape(1, 5, 5, self.n_state))\n",
        "            \n",
        "            if game_over_:\n",
        "                target_q[i][a_] = r_\n",
        "            else:\n",
        "                n_s_q = self.model.predict(n_s_.reshape(1, 5, 5, self.n_state))\n",
        "                target_q[i][a_] = r_ + self.discount * n_s_q.max()\n",
        "        ######## FILL IN\n",
        "        # HINT: Clip the target to avoid exploiding gradients.. -- clipping is a bit tighter\n",
        "        target_q = np.clip(target_q, -3, 3)\n",
        "\n",
        "        l = self.model.train_on_batch(input_states, target_q)\n",
        "\n",
        "\n",
        "        return l\n",
        "\n",
        "    def save(self,name_weights='model.h5',name_model='model.json'):\n",
        "        self.model.save_weights(name_weights, overwrite=True)\n",
        "        with open(name_model, \"w\") as outfile:\n",
        "            json.dump(self.model.to_json(), outfile)\n",
        "            \n",
        "    def load(self,name_weights='model.h5',name_model='model.json'):\n",
        "        with open(name_model, \"r\") as jfile:\n",
        "            model = model_from_json(json.load(jfile))\n",
        "        model.load_weights(name_weights)\n",
        "        model.compile(\"sgd\", \"mse\")\n",
        "        self.model = model\n",
        "\n",
        "            \n",
        "class DQN_FC(DQN):\n",
        "    def __init__(self, *args, lr=0.1,**kwargs):\n",
        "        super(DQN_FC, self).__init__( *args,**kwargs)\n",
        "        \n",
        "        # NN Model\n",
        "        model = Sequential()\n",
        "        model.add(Flatten(input_shape=(5, 5, self.n_state)))\n",
        "        model.add(Dense(64, activation=\"relu\"))\n",
        "        model.add(Dense(4, activation=\"linear\"))\n",
        "        \n",
        "        model.compile(adam(lr=lr, decay=1e-4), \"mse\")\n",
        "        self.model = model\n",
        "        "
      ],
      "execution_count": 0,
      "outputs": []
    },
    {
      "cell_type": "code",
      "metadata": {
        "id": "ETIBZh17sfsG",
        "colab_type": "code",
        "outputId": "8e3ec4e4-8e6e-45ff-f9d0-09b5e3323022",
        "colab": {
          "base_uri": "https://localhost:8080/",
          "height": 650
        }
      },
      "source": [
        "# parameters\n",
        "size = 13\n",
        "T=200\n",
        "temperature=0.3\n",
        "epochs_train=21 # set small when debugging\n",
        "epochs_test=21 # set small when debugging\n",
        "lr = 1e-3\n",
        "\n",
        "env = Environment(grid_size=size, max_time=T, temperature=0.3)\n",
        "agent = DQN_FC(size, lr=lr, epsilon = 0.1, memory_size=2000, batch_size = 32)\n",
        "train(agent, env, epochs_train, prefix='fc_train')\n",
        "HTML(display_videos('fc_train20.mp4'))"
      ],
      "execution_count": 27,
      "outputs": [
        {
          "output_type": "stream",
          "text": [
            "Epoch 000/021 | Loss 0.0052 | Win/lose count 4.0/3.0 (1.0)\n",
            "Epoch 001/021 | Loss 0.0038 | Win/lose count 3.0/5.0 (-2.0)\n",
            "Epoch 002/021 | Loss 0.0018 | Win/lose count 3.5/3.0 (0.5)\n",
            "Epoch 003/021 | Loss 0.0618 | Win/lose count 8.5/6.0 (2.5)\n",
            "Epoch 004/021 | Loss 0.0024 | Win/lose count 1.0/1.0 (0.0)\n",
            "Epoch 005/021 | Loss 0.0010 | Win/lose count 4.0/6.0 (-2.0)\n",
            "Epoch 006/021 | Loss 0.0019 | Win/lose count 8.5/5.0 (3.5)\n",
            "Epoch 007/021 | Loss 0.0011 | Win/lose count 5.5/4.0 (1.5)\n",
            "Epoch 008/021 | Loss 0.0024 | Win/lose count 1.5/2.0 (-0.5)\n",
            "Epoch 009/021 | Loss 0.0023 | Win/lose count 5.5/4.0 (1.5)\n",
            "Epoch 010/021 | Loss 0.0041 | Win/lose count 6.0/2.0 (4.0)\n",
            "Epoch 011/021 | Loss 0.0033 | Win/lose count 1.5/2.0 (-0.5)\n",
            "Epoch 012/021 | Loss 0.0023 | Win/lose count 7.0/3.0 (4.0)\n",
            "Epoch 013/021 | Loss 0.0016 | Win/lose count 3.0/4.0 (-1.0)\n",
            "Epoch 014/021 | Loss 0.0061 | Win/lose count 7.0/0 (7.0)\n",
            "Epoch 015/021 | Loss 0.0042 | Win/lose count 12.0/2.0 (10.0)\n",
            "Epoch 016/021 | Loss 0.0071 | Win/lose count 4.5/3.0 (1.5)\n",
            "Epoch 017/021 | Loss 0.0013 | Win/lose count 8.0/4.0 (4.0)\n",
            "Epoch 018/021 | Loss 0.0429 | Win/lose count 3.5/5.0 (-1.5)\n",
            "Epoch 019/021 | Loss 0.0025 | Win/lose count 9.5/2.0 (7.5)\n",
            "Epoch 020/021 | Loss 0.0020 | Win/lose count 4.5/3.0 (1.5)\n"
          ],
          "name": "stdout"
        },
        {
          "output_type": "execute_result",
          "data": {
            "text/html": [
              "<video alt=\"test\" controls>\n",
              "                <source src=\"data:video/mp4;base64,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\" type=\"video/mp4\" />\n",
              "             </video>"
            ],
            "text/plain": [
              "<IPython.core.display.HTML object>"
            ]
          },
          "metadata": {
            "tags": []
          },
          "execution_count": 27
        }
      ]
    },
    {
      "cell_type": "markdown",
      "metadata": {
        "id": "l9KvtGPKsfsL",
        "colab_type": "text"
      },
      "source": [
        "***\n",
        "***\n",
        "__Question 8__ Implement the DQN training algorithm using a CNN (for example, 2 convolutional layers and one final fully connected layer)."
      ]
    },
    {
      "cell_type": "code",
      "metadata": {
        "id": "P-GYzpBAsfsM",
        "colab_type": "code",
        "colab": {}
      },
      "source": [
        "class DQN_CNN(DQN):\n",
        "    def __init__(self, *args,lr=0.1,**kwargs):\n",
        "        super(DQN_CNN, self).__init__(*args,**kwargs)\n",
        "        \n",
        "        model = Sequential()\n",
        "        model.add(Conv2D(16, 3, activation=\"relu\", input_shape=(5, 5, self.n_state)))\n",
        "        model.add(Conv2D(32, 3, activation=\"relu\"))\n",
        "        model.add(Flatten())\n",
        "        model.add(Dense(4, activation=\"linear\"))\n",
        "        \n",
        "        model.compile(adam(lr=lr, decay=1e-4), \"mse\")\n",
        "        self.model = model"
      ],
      "execution_count": 0,
      "outputs": []
    },
    {
      "cell_type": "code",
      "metadata": {
        "id": "4Y_Pvtf8sfsQ",
        "colab_type": "code",
        "outputId": "e783a8a0-9000-4aa8-d125-15906bcedade",
        "colab": {
          "base_uri": "https://localhost:8080/",
          "height": 650
        }
      },
      "source": [
        "# parameters\n",
        "size = 13\n",
        "T=200\n",
        "temperature=0.3\n",
        "epochs_train=21 # set small when debugging\n",
        "epochs_test=21 # set small when debugging\n",
        "lr = 1e-3\n",
        "\n",
        "env = Environment(grid_size=size, max_time=T, temperature=0.3)\n",
        "agent = DQN_CNN(size, lr=lr, epsilon = 0.1, memory_size=2000, batch_size = 32)\n",
        "train(agent,env,epochs_train,prefix='cnn_train')\n",
        "HTML(display_videos('cnn_train20.mp4'))"
      ],
      "execution_count": 29,
      "outputs": [
        {
          "output_type": "stream",
          "text": [
            "Epoch 000/021 | Loss 0.0053 | Win/lose count 4.5/7.0 (-2.5)\n",
            "Epoch 001/021 | Loss 0.0041 | Win/lose count 5.5/4.0 (1.5)\n",
            "Epoch 002/021 | Loss 0.0014 | Win/lose count 7.0/7.0 (0.0)\n",
            "Epoch 003/021 | Loss 0.0017 | Win/lose count 9.5/5.0 (4.5)\n",
            "Epoch 004/021 | Loss 0.0027 | Win/lose count 10.0/2.0 (8.0)\n",
            "Epoch 005/021 | Loss 0.0049 | Win/lose count 6.0/3.0 (3.0)\n",
            "Epoch 006/021 | Loss 0.0426 | Win/lose count 8.5/4.0 (4.5)\n",
            "Epoch 007/021 | Loss 0.0497 | Win/lose count 6.0/2.0 (4.0)\n",
            "Epoch 008/021 | Loss 0.0014 | Win/lose count 6.5/1.0 (5.5)\n",
            "Epoch 009/021 | Loss 0.0326 | Win/lose count 5.0/4.0 (1.0)\n",
            "Epoch 010/021 | Loss 0.0016 | Win/lose count 10.0/3.0 (7.0)\n",
            "Epoch 011/021 | Loss 0.0032 | Win/lose count 1.5/2.0 (-0.5)\n",
            "Epoch 012/021 | Loss 0.0029 | Win/lose count 13.5/4.0 (9.5)\n",
            "Epoch 013/021 | Loss 0.0026 | Win/lose count 13.0/3.0 (10.0)\n",
            "Epoch 014/021 | Loss 0.0026 | Win/lose count 14.5/2.0 (12.5)\n",
            "Epoch 015/021 | Loss 0.0011 | Win/lose count 10.0/6.0 (4.0)\n",
            "Epoch 016/021 | Loss 0.0078 | Win/lose count 10.0/4.0 (6.0)\n",
            "Epoch 017/021 | Loss 0.0031 | Win/lose count 7.5/4.0 (3.5)\n",
            "Epoch 018/021 | Loss 0.0012 | Win/lose count 13.0/3.0 (10.0)\n",
            "Epoch 019/021 | Loss 0.0052 | Win/lose count 9.0/5.0 (4.0)\n",
            "Epoch 020/021 | Loss 0.0043 | Win/lose count 1.5/0 (1.5)\n"
          ],
          "name": "stdout"
        },
        {
          "output_type": "execute_result",
          "data": {
            "text/html": [
              "<video alt=\"test\" controls>\n",
              "                <source src=\"data:video/mp4;base64,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\" type=\"video/mp4\" />\n",
              "             </video>"
            ],
            "text/plain": [
              "<IPython.core.display.HTML object>"
            ]
          },
          "metadata": {
            "tags": []
          },
          "execution_count": 29
        }
      ]
    },
    {
      "cell_type": "markdown",
      "metadata": {
        "id": "WrPnmm2NsfsU",
        "colab_type": "text"
      },
      "source": [
        "***\n",
        "***\n",
        "__Question 9__ Test both algorithms and compare their performances. Which issue(s) do you observe? Observe also different behaviors by changing the temperature."
      ]
    },
    {
      "cell_type": "code",
      "metadata": {
        "id": "Do4nQk8ZsfsW",
        "colab_type": "code",
        "colab": {
          "base_uri": "https://localhost:8080/",
          "height": 799
        },
        "outputId": "15a9423c-c6bd-45c0-c7c7-9e612f6a84ec"
      },
      "source": [
        "env = Environment(grid_size=size, max_time=T,temperature=0.3)\n",
        "agent_cnn = DQN_CNN(size, lr=lr, epsilon = 0.1, memory_size=2000, batch_size = 32)\n",
        "agent_cnn.load(name_weights='cnn_trainmodel.h5',name_model='cnn_trainmodel.json')\n",
        "\n",
        "agent_fc = DQN_FC(size, lr=lr, epsilon = 0.1, memory_size=2000, batch_size = 32)\n",
        "agent_cnn.load(name_weights='fc_trainmodel.h5',name_model='fc_trainmodel.json')\n",
        "print('Test of the CNN')\n",
        "test(agent_cnn,env,epochs_test,prefix='cnn_test')\n",
        "print('Test of the FC')\n",
        "test(agent_fc,env,epochs_test,prefix='fc_test')"
      ],
      "execution_count": 30,
      "outputs": [
        {
          "output_type": "stream",
          "text": [
            "Test of the CNN\n",
            "Win/lose count 8.0/5.0. Average score (3.0)\n",
            "Win/lose count 5.5/2.0. Average score (3.25)\n",
            "Win/lose count 6.5/3.0. Average score (3.3333333333333335)\n",
            "Win/lose count 6.5/2.0. Average score (3.625)\n",
            "Win/lose count 5.5/3.0. Average score (3.4)\n",
            "Win/lose count 3.0/3.0. Average score (2.8333333333333335)\n",
            "Win/lose count 4.0/2.0. Average score (2.7142857142857144)\n",
            "Win/lose count 3.0/5.0. Average score (2.125)\n",
            "Win/lose count 2.5/5.0. Average score (1.6111111111111112)\n",
            "Win/lose count 6.0/4.0. Average score (1.65)\n",
            "Win/lose count 3.0/0. Average score (1.7727272727272727)\n",
            "Win/lose count 6.5/2.0. Average score (2.0)\n",
            "Win/lose count 6.0/1.0. Average score (2.230769230769231)\n",
            "Win/lose count 5.5/2.0. Average score (2.3214285714285716)\n",
            "Win/lose count 4.5/2.0. Average score (2.3333333333333335)\n",
            "Win/lose count 6.0/2.0. Average score (2.4375)\n",
            "Win/lose count 3.5/0. Average score (2.5)\n",
            "Win/lose count 2.0/2.0. Average score (2.361111111111111)\n",
            "Win/lose count 5.5/3.0. Average score (2.3684210526315788)\n",
            "Win/lose count 6.0/4.0. Average score (2.35)\n",
            "Win/lose count 2.0/0. Average score (2.3333333333333335)\n",
            "Final score: 2.3333333333333335\n",
            "Test of the FC\n",
            "Win/lose count 2.0/7.0. Average score (-5.0)\n",
            "Win/lose count 1.5/7.0. Average score (-5.25)\n",
            "Win/lose count 5.5/7.0. Average score (-4.0)\n",
            "Win/lose count 1.5/3.0. Average score (-3.375)\n",
            "Win/lose count 2.0/2.0. Average score (-2.7)\n",
            "Win/lose count 5.0/6.0. Average score (-2.4166666666666665)\n",
            "Win/lose count 8.5/3.0. Average score (-1.2857142857142858)\n",
            "Win/lose count 2.5/8.0. Average score (-1.8125)\n",
            "Win/lose count 3.5/9.0. Average score (-2.2222222222222223)\n",
            "Win/lose count 1.0/4.0. Average score (-2.3)\n",
            "Win/lose count 5.0/7.0. Average score (-2.272727272727273)\n",
            "Win/lose count 3.0/4.0. Average score (-2.1666666666666665)\n",
            "Win/lose count 1.5/1.0. Average score (-1.9615384615384615)\n",
            "Win/lose count 4.0/5.0. Average score (-1.8928571428571428)\n",
            "Win/lose count 5.0/10.0. Average score (-2.1)\n",
            "Win/lose count 5.0/8.0. Average score (-2.15625)\n",
            "Win/lose count 5.0/1.0. Average score (-1.7941176470588236)\n",
            "Win/lose count 3.5/7.0. Average score (-1.8888888888888888)\n",
            "Win/lose count 2.5/7.0. Average score (-2.026315789473684)\n",
            "Win/lose count 3.0/8.0. Average score (-2.175)\n",
            "Win/lose count 4.5/6.0. Average score (-2.142857142857143)\n",
            "Final score: -2.142857142857143\n"
          ],
          "name": "stdout"
        }
      ]
    },
    {
      "cell_type": "code",
      "metadata": {
        "id": "rCE9Ldy0sfsd",
        "colab_type": "code",
        "colab": {
          "base_uri": "https://localhost:8080/",
          "height": 293
        },
        "outputId": "13a611ec-2b89-4cbc-a9c2-6eb04657c069"
      },
      "source": [
        "HTML(display_videos('cnn_test10.mp4'))"
      ],
      "execution_count": 31,
      "outputs": [
        {
          "output_type": "execute_result",
          "data": {
            "text/html": [
              "<video alt=\"test\" controls>\n",
              "                <source src=\"data:video/mp4;base64,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\" type=\"video/mp4\" />\n",
              "             </video>"
            ],
            "text/plain": [
              "<IPython.core.display.HTML object>"
            ]
          },
          "metadata": {
            "tags": []
          },
          "execution_count": 31
        }
      ]
    },
    {
      "cell_type": "code",
      "metadata": {
        "id": "PD5EQEt_sfsi",
        "colab_type": "code",
        "colab": {
          "base_uri": "https://localhost:8080/",
          "height": 293
        },
        "outputId": "98b91bc6-eb93-4ea8-f198-9d08598c4811"
      },
      "source": [
        "HTML(display_videos('fc_test10.mp4'))"
      ],
      "execution_count": 32,
      "outputs": [
        {
          "output_type": "execute_result",
          "data": {
            "text/html": [
              "<video alt=\"test\" controls>\n",
              "                <source src=\"data:video/mp4;base64,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\" type=\"video/mp4\" />\n",
              "             </video>"
            ],
            "text/plain": [
              "<IPython.core.display.HTML object>"
            ]
          },
          "metadata": {
            "tags": []
          },
          "execution_count": 32
        }
      ]
    },
    {
      "cell_type": "markdown",
      "metadata": {
        "id": "CPt6GcLisfsp",
        "colab_type": "text"
      },
      "source": [
        "While the CNN outperforms the MLP, both fail to explore well the grid. It seems that they quickly get stuck in some local area where all the cheese is eaten. Decreasing the temperature accentuates the issue."
      ]
    },
    {
      "cell_type": "markdown",
      "metadata": {
        "id": "ybbybDADsfsr",
        "colab_type": "text"
      },
      "source": [
        "***\n",
        "\n",
        "The algorithm tends to not explore the map which can be an issue. We propose two ideas in order to encourage exploration:\n",
        "1. Incorporating a decreasing $\\epsilon$-greedy exploration. You can use the method ```set_epsilon```\n",
        "2. Append via the environment a new state that describes if a cell has been visited or not\n",
        "\n",
        "***\n",
        "__Question 10__ Design a new ```train_explore``` function and environment class ```EnvironmentExploring``` to tackle the issue of exploration.\n",
        "\n"
      ]
    },
    {
      "cell_type": "code",
      "metadata": {
        "id": "GFVNg1Klsfsu",
        "colab_type": "code",
        "colab": {}
      },
      "source": [
        "def train_explore(agent, env, epoch, prefix='', eps_stop=0.1, eps_decay=1e-5):\n",
        "    # Number of won games\n",
        "    score = 0\n",
        "    loss = 0\n",
        "    step = 0\n",
        "\n",
        "    for e in range(epoch):\n",
        "        # At each epoch, we restart to a fresh game and get the initial state\n",
        "        state = env.reset()\n",
        "        # This assumes that the games will terminate\n",
        "        game_over = False\n",
        "\n",
        "        win = 0\n",
        "        lose = 0\n",
        "\n",
        "        while not game_over:\n",
        "            # The agent performs an action\n",
        "            action = agent.act(state)\n",
        "\n",
        "            # Apply an action to the environment, get the next state, the reward\n",
        "            # and if the games end\n",
        "            prev_state = state\n",
        "            state, reward, game_over = env.act(action, train=True)\n",
        "\n",
        "            # Update the counters\n",
        "            if reward > 0:\n",
        "                win = win + reward\n",
        "            if reward < 0:\n",
        "                lose = lose -reward\n",
        "\n",
        "            # Update epsilon\n",
        "            eps = eps_stop + (agent.epsilon - eps_stop) * np.exp(-eps_decay * step)\n",
        "            step += 1\n",
        "            agent.set_epsilon(eps)\n",
        "\n",
        "            # Apply the reinforcement strategy\n",
        "            loss = agent.reinforce(prev_state, state,  action, reward, game_over)\n",
        "\n",
        "        # Save as a mp4\n",
        "        if e % 10 == 0:\n",
        "            env.draw(prefix+str(e))\n",
        "\n",
        "        # Update stats\n",
        "        score += win-lose\n",
        "\n",
        "        print(\"Epoch {:03d}/{:03d} | eps {} | Loss {:.4f} | Win/lose count {}/{} ({})\"\n",
        "              .format(e, epoch, eps, loss, win, lose, win-lose))\n",
        "        agent.save(name_weights=prefix+'model.h5',name_model=prefix+'model.json')\n",
        "        \n",
        "class EnvironmentExploring(Environment):\n",
        "    def __init__(self, grid_size=10, max_time=500, temperature=0.1):\n",
        "        super(EnvironmentExploring, self).__init__(grid_size=grid_size, max_time=max_time, temperature=temperature)\n",
        "        self.malus_position = np.zeros((grid_size, grid_size))\n",
        "        self.malus_position[self.x, self.y] = 0.1\n",
        "    \n",
        "    def act(self, action, train=False):\n",
        "        state, reward, game_over = super().act(action)\n",
        "        # Add malus\n",
        "        self.malus_position[self.x, self.y] = 0.1\n",
        "        if train:\n",
        "            reward -= self.malus_position[self.x, self.y]\n",
        "        # Concatenate to get the state\n",
        "        malus_state = self.malus_position[self.x - 2:self.x + 3, self.y - 2:self.y + 3]\n",
        "        state_with_visited = np.concatenate((state[:, :, [0]], state[:, :, [1]], malus_state[:, :, None]), axis=2)\n",
        "        return state_with_visited, reward, game_over \n",
        "\n",
        "    def reset(self):\n",
        "        state = super().reset()\n",
        "        self.malus_position = np.zeros((self.grid_size, self.grid_size))\n",
        "        self.malus_position[self.x, self.y] = 0.1       \n",
        "        # Concatenate to get the state\n",
        "        malus_state = self.malus_position[self.x - 2:self.x + 3, self.y - 2:self.y + 3]\n",
        "        state_with_visited = np.concatenate((state[:, :, [0]], state[:, :, [1]], malus_state[:, :, None]), axis=2)\n",
        "        return state_with_visited"
      ],
      "execution_count": 0,
      "outputs": []
    },
    {
      "cell_type": "code",
      "metadata": {
        "id": "lfrzpMaesfsz",
        "colab_type": "code",
        "colab": {
          "base_uri": "https://localhost:8080/",
          "height": 650
        },
        "outputId": "f401d533-b939-4716-a100-1c9d54ce6425"
      },
      "source": [
        "# parameters\n",
        "size = 13\n",
        "T=200\n",
        "temperature=0.3\n",
        "epochs_train=21 # set small when debugging\n",
        "epochs_test=21 # set small when debugging\n",
        "lr = 1e-3\n",
        "\n",
        "# Training\n",
        "env = EnvironmentExploring(grid_size=size, max_time=T, temperature=0.3)\n",
        "agent = DQN_CNN(size, lr=lr, epsilon = 1.0, memory_size=2000, batch_size = 32, n_state=3)\n",
        "train_explore(agent, env, epochs_train, prefix='cnn_train_explore', eps_decay=1e-6)\n",
        "HTML(display_videos('cnn_train_explore10.mp4'))"
      ],
      "execution_count": 45,
      "outputs": [
        {
          "output_type": "stream",
          "text": [
            "Epoch 000/021 | eps 0.982090592506228 | Loss 0.0018 | Win/lose count 6.400000000000001/28.500000000000085 (-22.100000000000083)\n",
            "Epoch 001/021 | eps 0.9303055481299025 | Loss 0.0072 | Win/lose count 5.2/32.80000000000018 (-27.600000000000183)\n",
            "Epoch 002/021 | eps 0.8506141689272462 | Loss 0.0036 | Win/lose count 10.000000000000004/31.600000000000115 (-21.60000000000011)\n",
            "Epoch 003/021 | eps 0.751702887028255 | Loss 0.0056 | Win/lose count 5.6000000000000005/27.70000000000012 (-22.10000000000012)\n",
            "Epoch 004/021 | eps 0.6434212290595105 | Loss 0.0034 | Win/lose count 7.200000000000002/25.300000000000107 (-18.100000000000104)\n",
            "Epoch 005/021 | eps 0.5351887144453099 | Loss 0.0057 | Win/lose count 9.600000000000003/27.7000000000001 (-18.100000000000094)\n",
            "Epoch 006/021 | eps 0.43471310547090025 | Loss 0.0069 | Win/lose count 10.400000000000004/23.500000000000043 (-13.100000000000039)\n",
            "Epoch 007/021 | eps 0.3472417896614439 | Loss 0.0054 | Win/lose count 9.600000000000003/22.70000000000005 (-13.100000000000046)\n",
            "Epoch 008/021 | eps 0.2753981904752849 | Loss 0.0082 | Win/lose count 9.200000000000003/24.800000000000065 (-15.600000000000062)\n",
            "Epoch 009/021 | eps 0.21950399040498053 | Loss 0.0030 | Win/lose count 14.000000000000007/22.600000000000033 (-8.600000000000026)\n",
            "Epoch 010/021 | eps 0.17819766308837331 | Loss 0.0107 | Win/lose count 8.400000000000002/22.00000000000003 (-13.600000000000026)\n",
            "Epoch 011/021 | eps 0.14914272224620698 | Loss 0.0057 | Win/lose count 15.200000000000008/17.299999999999976 (-2.0999999999999677)\n",
            "Epoch 012/021 | eps 0.12966051687789149 | Loss 0.0079 | Win/lose count 12.400000000000006/19.000000000000007 (-6.600000000000001)\n",
            "Epoch 013/021 | eps 0.11719302474223442 | Loss 0.0073 | Win/lose count 11.200000000000005/18.29999999999999 (-7.099999999999985)\n",
            "Epoch 014/021 | eps 0.10957149837600344 | Loss 0.0447 | Win/lose count 10.400000000000004/19.500000000000007 (-9.100000000000003)\n",
            "Epoch 015/021 | eps 0.10511754464921051 | Loss 0.0127 | Win/lose count 3.5999999999999996/20.20000000000002 (-16.600000000000023)\n",
            "Epoch 016/021 | eps 0.10262783092701967 | Loss 0.0703 | Win/lose count 14.800000000000008/18.4 (-3.5999999999999908)\n",
            "Epoch 017/021 | eps 0.10129594707943147 | Loss 0.0037 | Win/lose count 7.600000000000002/24.20000000000007 (-16.60000000000007)\n",
            "Epoch 018/021 | eps 0.10061380607672432 | Loss 0.0065 | Win/lose count 13.600000000000007/22.70000000000002 (-9.100000000000014)\n",
            "Epoch 019/021 | eps 0.10027920884280012 | Loss 0.0114 | Win/lose count 13.200000000000006/21.80000000000005 (-8.600000000000044)\n",
            "Epoch 020/021 | eps 0.1001219779197023 | Loss 0.0554 | Win/lose count 11.200000000000005/20.300000000000004 (-9.1)\n"
          ],
          "name": "stdout"
        },
        {
          "output_type": "execute_result",
          "data": {
            "text/html": [
              "<video alt=\"test\" controls>\n",
              "                <source src=\"data:video/mp4;base64,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\" type=\"video/mp4\" />\n",
              "             </video>"
            ],
            "text/plain": [
              "<IPython.core.display.HTML object>"
            ]
          },
          "metadata": {
            "tags": []
          },
          "execution_count": 45
        }
      ]
    },
    {
      "cell_type": "code",
      "metadata": {
        "id": "01dt_axTsfs4",
        "colab_type": "code",
        "colab": {
          "base_uri": "https://localhost:8080/",
          "height": 667
        },
        "outputId": "8f7c9941-5718-47c9-9c71-3d6e123ffe98"
      },
      "source": [
        "# Evaluation\n",
        "test(agent,env,epochs_test,prefix='cnn_test_explore')\n",
        "HTML(display_videos('cnn_test_explore20.mp4'))"
      ],
      "execution_count": 47,
      "outputs": [
        {
          "output_type": "stream",
          "text": [
            "Win/lose count 15.0/3.0. Average score (12.0)\n",
            "Win/lose count 15.0/1.0. Average score (13.0)\n",
            "Win/lose count 20.5/2.0. Average score (14.833333333333334)\n",
            "Win/lose count 13.5/5.0. Average score (13.25)\n",
            "Win/lose count 17.5/3.0. Average score (13.5)\n",
            "Win/lose count 18.0/4.0. Average score (13.583333333333334)\n",
            "Win/lose count 17.0/4.0. Average score (13.5)\n",
            "Win/lose count 14.5/1.0. Average score (13.5)\n",
            "Win/lose count 13.0/5.0. Average score (12.88888888888889)\n",
            "Win/lose count 21.0/6.0. Average score (13.1)\n",
            "Win/lose count 16.5/3.0. Average score (13.136363636363637)\n",
            "Win/lose count 18.0/2.0. Average score (13.375)\n",
            "Win/lose count 18.0/4.0. Average score (13.423076923076923)\n",
            "Win/lose count 13.5/4.0. Average score (13.142857142857142)\n",
            "Win/lose count 11.5/2.0. Average score (12.9)\n",
            "Win/lose count 12.0/5.0. Average score (12.53125)\n",
            "Win/lose count 15.5/3.0. Average score (12.529411764705882)\n",
            "Win/lose count 25.5/6.0. Average score (12.916666666666666)\n",
            "Win/lose count 19.5/4.0. Average score (13.052631578947368)\n",
            "Win/lose count 16.5/4.0. Average score (13.025)\n",
            "Win/lose count 22.0/6.0. Average score (13.166666666666666)\n",
            "Final score: 13.166666666666666\n"
          ],
          "name": "stdout"
        },
        {
          "output_type": "execute_result",
          "data": {
            "text/html": [
              "<video alt=\"test\" controls>\n",
              "                <source src=\"data:video/mp4;base64,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\" type=\"video/mp4\" />\n",
              "             </video>"
            ],
            "text/plain": [
              "<IPython.core.display.HTML object>"
            ]
          },
          "metadata": {
            "tags": []
          },
          "execution_count": 47
        }
      ]
    },
    {
      "cell_type": "markdown",
      "metadata": {
        "id": "02_0k5-csfs-",
        "colab_type": "text"
      },
      "source": [
        "***\n",
        "***\n",
        "__BONUS question__ Use the expert DQN from the previous question to generate some winning games. Train a model that mimicks its behavior. Compare the performances."
      ]
    },
    {
      "cell_type": "markdown",
      "metadata": {
        "id": "jXSH9hGusfs_",
        "colab_type": "text"
      },
      "source": [
        ""
      ]
    },
    {
      "cell_type": "markdown",
      "metadata": {
        "id": "6Mb7VyHqsftA",
        "colab_type": "text"
      },
      "source": [
        "***"
      ]
    }
  ]
}